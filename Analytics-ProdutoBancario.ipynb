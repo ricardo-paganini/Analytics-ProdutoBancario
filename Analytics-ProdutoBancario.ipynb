{
 "cells": [
  {
   "cell_type": "markdown",
   "id": "c5e282da-ca48-42f1-8983-35993d5a5137",
   "metadata": {},
   "source": [
    "# Projeto de Análise de Dados - Venda de Produto Bancário\n",
    "\n",
    "## 1. Contextualização\n",
    "\n",
    "O Banco XPTOKW fez um levantamento de clientes que após tentativas de vendas de determinado produto financeiro, observaram quais aceitaram o produto e quais não aceitaram. Entretanto, para melhorar a eficiência de suas vendas eles te contrataram para realizar a análise destes dados e mostrar a eles algumas soluções para maximizar a eficiência em novas vendas.\n",
    "\n",
    "Uma primeira reunião foi realizada contigo e um arquivo com os dados que eles levantaram foi te encaminhado, o arquivo se chama bank_marketing.xlsx.\n",
    "\n",
    "Com os dados em mãos, você iniciou sua análise exploratória para responder as questões levantadas durante a reunião:\n",
    "\n",
    "a) Qual o % de clientes que compraram o Título?\n",
    "\n",
    "b) Quais profissões com maiores frequências são responsáveis por cerca de 80% da base? (Quais das técnicas aprendidas melhor leva a resposta a esta pergunta?)\n",
    "\n",
    "c) Uma das frases ditas durante a reunião foi: “Podemos afirmar que 66% dos clientes não tem Ensino Superior”. Considerando os dados fornecidos, o que pode dizer sobre essa afirmação?"
   ]
  },
  {
   "cell_type": "markdown",
   "id": "b2ec400f-0b7b-4ff8-ba07-a1521ca3d7d8",
   "metadata": {},
   "source": [
    "## 2. Pacotes e bibliotecas"
   ]
  },
  {
   "cell_type": "code",
   "execution_count": 4,
   "id": "c797734a-6d87-41b2-ae8f-283df8298f60",
   "metadata": {
    "tags": []
   },
   "outputs": [],
   "source": [
    "import pandas as pd\n",
    "import seaborn as sns\n",
    "import openpyxl"
   ]
  },
  {
   "cell_type": "markdown",
   "id": "2f3b3e22-9e43-4200-8676-3acd01896523",
   "metadata": {},
   "source": [
    "## 3. Carga dos dados"
   ]
  },
  {
   "cell_type": "code",
   "execution_count": 14,
   "id": "112ef43e-3ab0-40cd-88a4-c238fd7b04ce",
   "metadata": {
    "tags": []
   },
   "outputs": [],
   "source": [
    "df_raw = pd.read_excel(r'data\\bank_marketing.xlsx', engine='openpyxl',sheet_name='bank_marketing',header=1)"
   ]
  },
  {
   "cell_type": "code",
   "execution_count": 17,
   "id": "75f42041-1a9d-4402-84f8-2333f0036ab3",
   "metadata": {
    "tags": []
   },
   "outputs": [
    {
     "data": {
      "text/html": [
       "<div>\n",
       "<style scoped>\n",
       "    .dataframe tbody tr th:only-of-type {\n",
       "        vertical-align: middle;\n",
       "    }\n",
       "\n",
       "    .dataframe tbody tr th {\n",
       "        vertical-align: top;\n",
       "    }\n",
       "\n",
       "    .dataframe thead th {\n",
       "        text-align: right;\n",
       "    }\n",
       "</style>\n",
       "<table border=\"1\" class=\"dataframe\">\n",
       "  <thead>\n",
       "    <tr style=\"text-align: right;\">\n",
       "      <th></th>\n",
       "      <th>Cliente_Comprou_o_Titulo?</th>\n",
       "      <th>Idade</th>\n",
       "      <th>Profissão</th>\n",
       "      <th>Estado_Civil</th>\n",
       "      <th>Formação</th>\n",
       "      <th>Cliente_Devedor?</th>\n",
       "      <th>Saldo_Conta_Corrente</th>\n",
       "      <th>Tem_Hipoteca?</th>\n",
       "      <th>Tem_Emprestimo?</th>\n",
       "      <th>Qte_de_Ligações_Feitas</th>\n",
       "    </tr>\n",
       "  </thead>\n",
       "  <tbody>\n",
       "    <tr>\n",
       "      <th>0</th>\n",
       "      <td>Não</td>\n",
       "      <td>33</td>\n",
       "      <td>Operário</td>\n",
       "      <td>Casado</td>\n",
       "      <td>Ensino Médio</td>\n",
       "      <td>Não</td>\n",
       "      <td>263</td>\n",
       "      <td>Sim</td>\n",
       "      <td>Não</td>\n",
       "      <td>3</td>\n",
       "    </tr>\n",
       "    <tr>\n",
       "      <th>1</th>\n",
       "      <td>Não</td>\n",
       "      <td>58</td>\n",
       "      <td>Aposentado</td>\n",
       "      <td>Casado</td>\n",
       "      <td>Ensino Médio</td>\n",
       "      <td>Não</td>\n",
       "      <td>19</td>\n",
       "      <td>Não</td>\n",
       "      <td>Sim</td>\n",
       "      <td>3</td>\n",
       "    </tr>\n",
       "    <tr>\n",
       "      <th>2</th>\n",
       "      <td>Sim</td>\n",
       "      <td>83</td>\n",
       "      <td>Aposentado</td>\n",
       "      <td>Casado</td>\n",
       "      <td>Fundamental</td>\n",
       "      <td>Não</td>\n",
       "      <td>425</td>\n",
       "      <td>Não</td>\n",
       "      <td>Não</td>\n",
       "      <td>1</td>\n",
       "    </tr>\n",
       "    <tr>\n",
       "      <th>3</th>\n",
       "      <td>Sim</td>\n",
       "      <td>32</td>\n",
       "      <td>Administrador</td>\n",
       "      <td>Solteiro</td>\n",
       "      <td>Ensino Superior</td>\n",
       "      <td>Não</td>\n",
       "      <td>10281</td>\n",
       "      <td>Não</td>\n",
       "      <td>Não</td>\n",
       "      <td>1</td>\n",
       "    </tr>\n",
       "    <tr>\n",
       "      <th>4</th>\n",
       "      <td>Sim</td>\n",
       "      <td>31</td>\n",
       "      <td>Administrador</td>\n",
       "      <td>Solteiro</td>\n",
       "      <td>Ensino Médio</td>\n",
       "      <td>Não</td>\n",
       "      <td>360</td>\n",
       "      <td>Sim</td>\n",
       "      <td>Não</td>\n",
       "      <td>1</td>\n",
       "    </tr>\n",
       "    <tr>\n",
       "      <th>...</th>\n",
       "      <td>...</td>\n",
       "      <td>...</td>\n",
       "      <td>...</td>\n",
       "      <td>...</td>\n",
       "      <td>...</td>\n",
       "      <td>...</td>\n",
       "      <td>...</td>\n",
       "      <td>...</td>\n",
       "      <td>...</td>\n",
       "      <td>...</td>\n",
       "    </tr>\n",
       "    <tr>\n",
       "      <th>9679</th>\n",
       "      <td>Não</td>\n",
       "      <td>30</td>\n",
       "      <td>Desempregado</td>\n",
       "      <td>Solteiro</td>\n",
       "      <td>Ensino Superior</td>\n",
       "      <td>Não</td>\n",
       "      <td>463</td>\n",
       "      <td>Não</td>\n",
       "      <td>Não</td>\n",
       "      <td>4</td>\n",
       "    </tr>\n",
       "    <tr>\n",
       "      <th>9680</th>\n",
       "      <td>Sim</td>\n",
       "      <td>57</td>\n",
       "      <td>Aposentado</td>\n",
       "      <td>Casado</td>\n",
       "      <td>Ensino Médio</td>\n",
       "      <td>Não</td>\n",
       "      <td>466</td>\n",
       "      <td>Não</td>\n",
       "      <td>Não</td>\n",
       "      <td>2</td>\n",
       "    </tr>\n",
       "    <tr>\n",
       "      <th>9681</th>\n",
       "      <td>Sim</td>\n",
       "      <td>39</td>\n",
       "      <td>Administrador</td>\n",
       "      <td>Solteiro</td>\n",
       "      <td>Ensino Superior</td>\n",
       "      <td>Não</td>\n",
       "      <td>307</td>\n",
       "      <td>Não</td>\n",
       "      <td>Não</td>\n",
       "      <td>2</td>\n",
       "    </tr>\n",
       "    <tr>\n",
       "      <th>9682</th>\n",
       "      <td>Sim</td>\n",
       "      <td>37</td>\n",
       "      <td>Técnico</td>\n",
       "      <td>Solteiro</td>\n",
       "      <td>Ensino Médio</td>\n",
       "      <td>Não</td>\n",
       "      <td>4</td>\n",
       "      <td>Não</td>\n",
       "      <td>Não</td>\n",
       "      <td>1</td>\n",
       "    </tr>\n",
       "    <tr>\n",
       "      <th>9683</th>\n",
       "      <td>Não</td>\n",
       "      <td>42</td>\n",
       "      <td>Serviços Gerais</td>\n",
       "      <td>Casado</td>\n",
       "      <td>Fundamental</td>\n",
       "      <td>Não</td>\n",
       "      <td>2567</td>\n",
       "      <td>Sim</td>\n",
       "      <td>Não</td>\n",
       "      <td>2</td>\n",
       "    </tr>\n",
       "  </tbody>\n",
       "</table>\n",
       "<p>9684 rows × 10 columns</p>\n",
       "</div>"
      ],
      "text/plain": [
       "     Cliente_Comprou_o_Titulo?  Idade        Profissão Estado_Civil   \n",
       "0                          Não     33         Operário       Casado  \\\n",
       "1                          Não     58       Aposentado       Casado   \n",
       "2                          Sim     83       Aposentado       Casado   \n",
       "3                          Sim     32    Administrador     Solteiro   \n",
       "4                          Sim     31    Administrador     Solteiro   \n",
       "...                        ...    ...              ...          ...   \n",
       "9679                       Não     30     Desempregado     Solteiro   \n",
       "9680                       Sim     57       Aposentado       Casado   \n",
       "9681                       Sim     39    Administrador     Solteiro   \n",
       "9682                       Sim     37          Técnico     Solteiro   \n",
       "9683                       Não     42  Serviços Gerais       Casado   \n",
       "\n",
       "             Formação Cliente_Devedor?  Saldo_Conta_Corrente Tem_Hipoteca?   \n",
       "0        Ensino Médio              Não                   263           Sim  \\\n",
       "1        Ensino Médio              Não                    19           Não   \n",
       "2         Fundamental              Não                   425           Não   \n",
       "3     Ensino Superior              Não                 10281           Não   \n",
       "4        Ensino Médio              Não                   360           Sim   \n",
       "...               ...              ...                   ...           ...   \n",
       "9679  Ensino Superior              Não                   463           Não   \n",
       "9680     Ensino Médio              Não                   466           Não   \n",
       "9681  Ensino Superior              Não                   307           Não   \n",
       "9682     Ensino Médio              Não                     4           Não   \n",
       "9683      Fundamental              Não                  2567           Sim   \n",
       "\n",
       "     Tem_Emprestimo?  Qte_de_Ligações_Feitas  \n",
       "0                Não                       3  \n",
       "1                Sim                       3  \n",
       "2                Não                       1  \n",
       "3                Não                       1  \n",
       "4                Não                       1  \n",
       "...              ...                     ...  \n",
       "9679             Não                       4  \n",
       "9680             Não                       2  \n",
       "9681             Não                       2  \n",
       "9682             Não                       1  \n",
       "9683             Não                       2  \n",
       "\n",
       "[9684 rows x 10 columns]"
      ]
     },
     "execution_count": 17,
     "metadata": {},
     "output_type": "execute_result"
    }
   ],
   "source": [
    "df_raw = df_raw.drop(columns='Unnamed: 0')\n",
    "df_raw"
   ]
  },
  {
   "cell_type": "markdown",
   "id": "b91b43d8-9428-4fca-a544-497bcfe4bf14",
   "metadata": {},
   "source": [
    "## 4. Descrição dos dados"
   ]
  },
  {
   "cell_type": "markdown",
   "id": "1e580be1-5d3b-47b2-babd-55f4b9753e8c",
   "metadata": {},
   "source": [
    "Feature | Descrição | Tipo\n",
    "------- | --------- | ----\n",
    "Cliente_Comprou_o_Titulo? | Sim / Não | Qualitativa Nominal\n",
    "Idade | Idade do cliente | Quantitativa Discreta\n",
    "Profissão | Profissão do cliente | Qualitativa Nominal\n",
    "Estado_Civil | Informa o estado civil do cliente | Qualitativa Ordinal\n",
    "Formação | Grau de instrução do cliente | Qualitativa Nominal\n",
    "Cliente_Devedor? | Sim / Não | Qualitativa Nominal\n",
    "Saldo_Conta_Corrente | Informa o saldo da conta corrente do cliente | Quantitativa Contínua\n",
    "Tem_Hipoteca? | Sim / Não | Qualitativa Nominal\n",
    "Tem_Emprestimo? | Sim / Não | Qualitativa Nominal\n",
    "Qte_de_Ligações_feitas | Número de ligações realizadas para o cliente | Quantitativa Discreta"
   ]
  },
  {
   "cell_type": "code",
   "execution_count": 18,
   "id": "661b8ef6-6bc2-4aac-963b-2f7131f95f24",
   "metadata": {
    "tags": []
   },
   "outputs": [
    {
     "data": {
      "text/plain": [
       "Cliente_Comprou_o_Titulo?    object\n",
       "Idade                         int64\n",
       "Profissão                    object\n",
       "Estado_Civil                 object\n",
       "Formação                     object\n",
       "Cliente_Devedor?             object\n",
       "Saldo_Conta_Corrente          int64\n",
       "Tem_Hipoteca?                object\n",
       "Tem_Emprestimo?              object\n",
       "Qte_de_Ligações_Feitas        int64\n",
       "dtype: object"
      ]
     },
     "execution_count": 18,
     "metadata": {},
     "output_type": "execute_result"
    }
   ],
   "source": [
    "df_raw.dtypes"
   ]
  },
  {
   "cell_type": "code",
   "execution_count": 19,
   "id": "78fa6502-215b-457f-a6d8-ded9e2011f7c",
   "metadata": {
    "tags": []
   },
   "outputs": [
    {
     "data": {
      "text/plain": [
       "dtype('float64')"
      ]
     },
     "execution_count": 19,
     "metadata": {},
     "output_type": "execute_result"
    }
   ],
   "source": [
    "df_raw['Saldo_Conta_Corrente'] = df_raw['Saldo_Conta_Corrente'].astype('float64')\n",
    "df_raw['Saldo_Conta_Corrente'].dtypes"
   ]
  },
  {
   "cell_type": "code",
   "execution_count": 20,
   "id": "3b67ab3c-5948-41d4-bc97-606fc6f22c8a",
   "metadata": {
    "tags": []
   },
   "outputs": [
    {
     "data": {
      "text/plain": [
       "(9684, 10)"
      ]
     },
     "execution_count": 20,
     "metadata": {},
     "output_type": "execute_result"
    }
   ],
   "source": [
    "df_raw.shape"
   ]
  },
  {
   "cell_type": "code",
   "execution_count": 21,
   "id": "67f7a86f-a598-434f-bcab-36e98ff79a53",
   "metadata": {
    "tags": []
   },
   "outputs": [
    {
     "data": {
      "text/plain": [
       "Cliente_Comprou_o_Titulo?    0\n",
       "Idade                        0\n",
       "Profissão                    0\n",
       "Estado_Civil                 0\n",
       "Formação                     0\n",
       "Cliente_Devedor?             0\n",
       "Saldo_Conta_Corrente         0\n",
       "Tem_Hipoteca?                0\n",
       "Tem_Emprestimo?              0\n",
       "Qte_de_Ligações_Feitas       0\n",
       "dtype: int64"
      ]
     },
     "execution_count": 21,
     "metadata": {},
     "output_type": "execute_result"
    }
   ],
   "source": [
    "df_raw.isna().sum()"
   ]
  },
  {
   "cell_type": "markdown",
   "id": "4f6e5a25-f19d-491b-a903-9809d3e1e436",
   "metadata": {},
   "source": [
    "## 5. Resumo dos dados "
   ]
  },
  {
   "cell_type": "code",
   "execution_count": 23,
   "id": "1a48b020-28a4-42eb-80ab-8dad54bb6bdc",
   "metadata": {
    "tags": []
   },
   "outputs": [],
   "source": [
    "df1 = df_raw.copy()"
   ]
  },
  {
   "cell_type": "markdown",
   "id": "04386304-6cb7-481c-b785-99572d4bc2d9",
   "metadata": {},
   "source": [
    "### 5.1 - Estatística Descritiva (Unidimensional)"
   ]
  },
  {
   "cell_type": "markdown",
   "id": "e3b6cd57-35fb-454a-85c0-494c9ec3bade",
   "metadata": {
    "tags": []
   },
   "source": [
    "#### 5.1.1 - Tabela de Frequências"
   ]
  },
  {
   "cell_type": "code",
   "execution_count": 117,
   "id": "54cbc405-48ed-41b6-9d4a-07bf57ba8f0c",
   "metadata": {
    "tags": []
   },
   "outputs": [
    {
     "name": "stdout",
     "output_type": "stream",
     "text": [
      "2\n"
     ]
    }
   ],
   "source": [
    "# Cliente_Comprou_o_Titulo?\n",
    "\n",
    "tb_freq = pd.DataFrame(df1['Cliente_Comprou_o_Titulo?'].value_counts()).reset_index()\n",
    "tb_freq.rename(columns={'count':'Frequência Absoluta'}, inplace=True)\n",
    "\n",
    "total = tb_freq['Frequência Absoluta'].sum()\n",
    "\n",
    "tb_freq['Frequência Relativa %'] = 0\n",
    "tb_freq['Frequência Acumulada %'] = 0\n",
    "\n",
    "\n",
    "\n",
    "for i in tb_freq.index:\n",
    "    tb_freq.loc[i,'Frequência Relativa %'] = round(tb_freq.loc[i,'Frequência Absoluta'] / total * 100,2)\n",
    "    \n",
    "for i in tb_freq.index:\n",
    "    if i == 0:\n",
    "        tb_freq.loc[i,'Frequência Acumulada %'] = tb_freq.loc[i,'Frequência Relativa %']\n",
    "    else:\n",
    "        tb_freq.loc[i,'Frequência Acumulada %'] = tb_freq.loc[i,'Frequência Acumulada %']\n",
    "        print(i + 1)"
   ]
  },
  {
   "cell_type": "code",
   "execution_count": 94,
   "id": "ac0bee43-6881-4bf0-a268-325e71c18eb4",
   "metadata": {
    "tags": []
   },
   "outputs": [
    {
     "data": {
      "text/plain": [
       "9684"
      ]
     },
     "execution_count": 94,
     "metadata": {},
     "output_type": "execute_result"
    }
   ],
   "source": [
    "tb_freq['Frequência Absoluta'].sum()"
   ]
  },
  {
   "cell_type": "code",
   "execution_count": 118,
   "id": "0b94ec17-5bc8-4cd0-9cd6-9a917ecfe1df",
   "metadata": {
    "tags": []
   },
   "outputs": [
    {
     "data": {
      "text/plain": [
       "Cliente_Comprou_o_Titulo?  Frequência Absoluta  Frequência Relativa %  Frequência Acumulada %\n",
       "Não                        4906                 50.66                  50.66                     1\n",
       "Sim                        4778                 49.34                  0.00                      1\n",
       "Name: count, dtype: int64"
      ]
     },
     "execution_count": 118,
     "metadata": {},
     "output_type": "execute_result"
    }
   ],
   "source": [
    "tb_freq.value_counts()"
   ]
  },
  {
   "cell_type": "code",
   "execution_count": null,
   "id": "68e1e2e6-afa5-496b-90ed-889835967ea9",
   "metadata": {},
   "outputs": [],
   "source": []
  }
 ],
 "metadata": {
  "kernelspec": {
   "display_name": "Python 3 (ipykernel)",
   "language": "python",
   "name": "python3"
  },
  "language_info": {
   "codemirror_mode": {
    "name": "ipython",
    "version": 3
   },
   "file_extension": ".py",
   "mimetype": "text/x-python",
   "name": "python",
   "nbconvert_exporter": "python",
   "pygments_lexer": "ipython3",
   "version": "3.11.2"
  }
 },
 "nbformat": 4,
 "nbformat_minor": 5
}
